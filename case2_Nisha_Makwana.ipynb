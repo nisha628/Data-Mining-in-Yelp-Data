{
 "cells": [
  {
   "cell_type": "markdown",
   "metadata": {},
   "source": [
    "# Nisha Makwana - B01040428"
   ]
  },
  {
   "cell_type": "markdown",
   "metadata": {
    "id": "ChfpQBVn1SdU"
   },
   "source": [
    "# Case Study 2 : Data Mining in Yelp Data"
   ]
  },
  {
   "cell_type": "markdown",
   "metadata": {
    "id": "befFffmo1SdY"
   },
   "source": [
    "\n",
    "Please download the Yelp dataset in Case Study 2 in BrightSpace. \n",
    "\n",
    "**Here is an example of the data format:**\n",
    "### Business Objects\n",
    "\n",
    "Business objects contain basic information about local businesses. The fields are as follows:\n",
    "\n",
    "```json\n",
    "{\n",
    "  'type': 'business',\n",
    "  'business_id': (a unique identifier for this business),\n",
    "  'name': (the full business name),\n",
    "  'neighborhoods': (a list of neighborhood names, might be empty),\n",
    "  'full_address': (localized address),\n",
    "  'city': (city),\n",
    "  'state': (state),\n",
    "  'latitude': (latitude),\n",
    "  'longitude': (longitude),\n",
    "  'stars': (star rating, rounded to half-stars),\n",
    "  'review_count': (review count),\n",
    "  'photo_url': (photo url),\n",
    "  'categories': [(localized category names)]\n",
    "  'open': (is the business still open for business?),\n",
    "  'schools': (nearby universities),\n",
    "  'url': (yelp url)\n",
    "}\n",
    "```\n",
    "### Checkin Objects\n",
    "```json\n",
    "{\n",
    "    'type': 'checkin',\n",
    "    'business_id': (encrypted business id),\n",
    "    'checkin_info': {\n",
    "        '0-0': (number of checkins from 00:00 to 01:00 on all Sundays),\n",
    "        '1-0': (number of checkins from 01:00 to 02:00 on all Sundays),\n",
    "        ...\n",
    "        '14-4': (number of checkins from 14:00 to 15:00 on all Thursdays),\n",
    "        ...\n",
    "        '23-6': (number of checkins from 23:00 to 00:00 on all Saturdays)\n",
    "    }, # if there was no checkin for a hour-day block it will not be in the dict\n",
    "}\n",
    "```"
   ]
  },
  {
   "cell_type": "markdown",
   "metadata": {
    "id": "r7INb_yu1SdZ"
   },
   "source": [
    "# Problem: pick a data science problem that you plan to solve using Yelp Data\n",
    "* The problem should be important and interesting, which has a potential impact in some area.\n",
    "* The problem should be solvable using yelp data and data science solutions.\n",
    "\n",
    "Please briefly describe in the following cell: what problem are you trying to solve? why this problem is important and interesting?"
   ]
  },
  {
   "cell_type": "markdown",
   "metadata": {
    "id": "8EujUt1P1Sda"
   },
   "source": [
    "I want to create a model that predicts the success of businesses listed on Yelp. To do this, I'll analyze data such as reviews, ratings, and category. By looking at patterns in user behavior, business attributes, and check-ins, the model will estimate the chances of a business getting high ratings and attracting more customers."
   ]
  },
  {
   "cell_type": "markdown",
   "metadata": {
    "id": "48jE-6T81Sdb"
   },
   "source": [
    "# Data Collection/Processing: "
   ]
  },
  {
   "cell_type": "code",
   "execution_count": 2,
   "metadata": {
    "id": "omItoqAF1Sdc",
    "outputId": "4a88e704-fac1-4483-974d-7bec97e34f3d"
   },
   "outputs": [
    {
     "name": "stdout",
     "output_type": "stream",
     "text": [
      "Business Data:\n",
      "              business_id                  name               neighborhood  \\\n",
      "0  Apn5Q_b6Nz61Tq4XzPdf9A  Minhas Micro Brewery                              \n",
      "1  AjEbIBw6ZFfln7ePHha9PA   CK'S BBQ & Catering                              \n",
      "2  O8S5hYJ1SMc8fA4QBtVujA         La Bastringue  Rosemont-La Petite-Patrie   \n",
      "3  bFzdJJ3wp3PZssNEsyU23g       Geico Insurance                              \n",
      "4  8USyCYqpScwiNEb58Bt6CA         Action Engine                              \n",
      "\n",
      "               address       city state postal_code   latitude   longitude  \\\n",
      "0    1314 44 Avenue NE    Calgary    AB     T2E 6L6  51.091813 -114.031675   \n",
      "1                       Henderson    NV       89002  35.960734 -114.939821   \n",
      "2  1335 rue Beaubien E   Montréal    QC     H2G 1K7  45.540503  -73.599300   \n",
      "3      211 W Monroe St    Phoenix    AZ       85003  33.449999 -112.076979   \n",
      "4  2005 Alyth Place SE    Calgary    AB     T2H 0N5  51.035591 -114.027366   \n",
      "\n",
      "   stars  review_count  is_open  \\\n",
      "0    4.0            24        1   \n",
      "1    4.5             3        0   \n",
      "2    4.0             5        0   \n",
      "3    1.5             8        1   \n",
      "4    2.0             4        1   \n",
      "\n",
      "                                          attributes  \\\n",
      "0  {'BikeParking': 'False', 'BusinessAcceptsCredi...   \n",
      "1  {'Alcohol': 'none', 'BikeParking': 'False', 'B...   \n",
      "2  {'Alcohol': 'beer_and_wine', 'Ambience': '{'ro...   \n",
      "3                                               None   \n",
      "4             {'BusinessAcceptsCreditCards': 'True'}   \n",
      "\n",
      "                                          categories  \\\n",
      "0  Tours, Breweries, Pizza, Restaurants, Food, Ho...   \n",
      "1  Chicken Wings, Burgers, Caterers, Street Vendo...   \n",
      "2  Breakfast & Brunch, Restaurants, French, Sandw...   \n",
      "3                      Insurance, Financial Services   \n",
      "4  Home & Garden, Nurseries & Gardening, Shopping...   \n",
      "\n",
      "                                               hours  \n",
      "0  {'Monday': '8:30-17:0', 'Tuesday': '11:0-21:0'...  \n",
      "1  {'Friday': '17:0-23:0', 'Saturday': '17:0-23:0...  \n",
      "2  {'Monday': '10:0-22:0', 'Tuesday': '10:0-22:0'...  \n",
      "3                                               None  \n",
      "4  {'Monday': '8:0-17:0', 'Tuesday': '8:0-17:0', ...  \n",
      "\n",
      "Checkin Data:\n",
      "                                        checkin_info     type  \\\n",
      "0  {'9-5': 1, '7-5': 1, '13-3': 1, '17-6': 1, '13...  checkin   \n",
      "1  {'16-2': 1, '22-5': 1, '9-5': 1, '9-4': 3, '15...  checkin   \n",
      "2  {'23-1': 1, '13-4': 1, '17-6': 1, '15-1': 1, '...  checkin   \n",
      "3                     {'5-5': 2, '5-1': 2, '8-2': 1}  checkin   \n",
      "4  {'15-1': 1, '13-3': 1, '16-0': 1, '9-3': 1, '1...  checkin   \n",
      "\n",
      "              business_id  \n",
      "0  cE27W9VPgO88Qxe4ol6y_g  \n",
      "1  mVHrayjG3uZ_RLHkLj-AMg  \n",
      "2  KayYbHCt-RkbGcPdGOThNg  \n",
      "3  b12U9TFESStdy7CsTtcOeg  \n",
      "4  QoDa50dc7g62xciFygXB9w  \n"
     ]
    }
   ],
   "source": [
    "import pandas as pd\n",
    "\n",
    "# file paths\n",
    "business_file_path = \"yelp_academic_dataset_business.json\"\n",
    "checkin_file_path = \"yelp_academic_dataset_checkin.json\"\n",
    "\n",
    "# Retrieve business information and check-in data\n",
    "business_df = pd.read_json(business_file_path, lines=True)\n",
    "checkin_df = pd.read_json(checkin_file_path, lines=True)\n",
    "\n",
    "#display data\n",
    "print(\"Business Data:\")\n",
    "print(business_df.head())\n",
    "\n",
    "print(\"\\nCheckin Data:\")\n",
    "print(checkin_df.head())\n"
   ]
  },
  {
   "cell_type": "markdown",
   "metadata": {
    "id": "vKGDOp4L1Sdd"
   },
   "source": [
    "# Data Exploration: Exploring the Yelp Dataset\n",
    "\n",
    "**(1) Finding the most popular business categories:** \n",
    "* print the top 10 most popular business categories in the dataset and their counts in a table (i.e., how many business objects in each category). Here we say a category is \"popular\" if there are many business objects in this category (such as 'restaurants')."
   ]
  },
  {
   "cell_type": "code",
   "execution_count": 3,
   "metadata": {
    "id": "WO9CD9Dd1Sdd",
    "outputId": "7ffe3609-4b60-4691-e82a-4e0d7a2d6291"
   },
   "outputs": [
    {
     "name": "stdout",
     "output_type": "stream",
     "text": [
      "Top 10 Most Popular Business Categories: \n",
      "\n",
      "Restaurants         57173\n",
      "Shopping            30231\n",
      "Food                27118\n",
      "Beauty & Spas       18967\n",
      "Home Services       18634\n",
      "Health & Medical    16157\n",
      "Local Services      12906\n",
      "Automotive          12656\n",
      "Nightlife           12438\n",
      "Bars                10853\n",
      "Name: count, dtype: int64\n"
     ]
    }
   ],
   "source": [
    "# prepare Data for analysis.\n",
    "categories_df = business_df['categories'].str.split(', ', expand=True).stack()\n",
    "\n",
    "# Determine how many times each category occurs.\n",
    "top_categories = categories_df.value_counts().head(10)\n",
    "\n",
    "# table with the counts of the top ten most common business categories.\n",
    "print(\"Top 10 Most Popular Business Categories: \\n\")\n",
    "print(top_categories)\n"
   ]
  },
  {
   "cell_type": "markdown",
   "metadata": {
    "id": "ZjAPbMYD1Sde"
   },
   "source": [
    "**(2) Find the most popular business objects** \n",
    "* print the top 10 most popular business objects/IDs in the dataset and their counts (i.e., how many checkins in total for each business object).  Here we say a business object is \"popular\" if the business object attracts a large number of checkins from the users."
   ]
  },
  {
   "cell_type": "code",
   "execution_count": 10,
   "metadata": {
    "id": "DXg2InDM1Sdf"
   },
   "outputs": [
    {
     "name": "stdout",
     "output_type": "stream",
     "text": [
      "Requirement already satisfied: tabulate in c:\\users\\sunyloaner\\anaconda3\\envs\\machinelearning\\lib\\site-packages (0.9.0)\n",
      "Top 10 Most Popular Business Objects/IDs:\n",
      "\n",
      "+------------------------+-----------------+\n",
      "|      Business ID       | Total Check-ins |\n",
      "+------------------------+-----------------+\n",
      "| jf67Z1pnwElRSXllpQHiJg |      77320      |\n",
      "| hW0Ne_HTHEAgGF1rAdmR-g |      68711      |\n",
      "| 3Q0QQPnHcJuX1DLCL9G9Cg |      29893      |\n",
      "| AtjsjFzalWqJ7S9DUFQ4bw |      27356      |\n",
      "| JpHE7yhMS5ehA9e8WG_ETg |      18208      |\n",
      "| 34uJtlPnKicSaX1V8_tu1A |      18099      |\n",
      "| eWPFXL1Bmu1ImtIa2Rqliw |      17671      |\n",
      "| -7yF42k0CcJhtPw51oaOqQ |      17419      |\n",
      "| z3SyT8blMIhsZNvKJgKcRA |      17161      |\n",
      "| 2e2e7WgqU1BnpxmQL5jbfw |      16641      |\n",
      "+------------------------+-----------------+\n"
     ]
    }
   ],
   "source": [
    "!pip install tabulate\n",
    "from tabulate import tabulate\n",
    "\n",
    "table_data = []\n",
    "for index, row in top_business_ids.iterrows():\n",
    "    table_data.append([row['business_id'], row['total_checkins']])\n",
    "\n",
    "# Print the table\n",
    "print(\"Top 10 Most Popular Business Objects/IDs:\\n\")\n",
    "print(tabulate(table_data, headers=[\"Business ID\", \"Total Check-ins\"], tablefmt=\"pretty\"))"
   ]
  },
  {
   "cell_type": "markdown",
   "metadata": {},
   "source": [
    "**(3) Other explorations you would like to present** \n"
   ]
  },
  {
   "cell_type": "code",
   "execution_count": 11,
   "metadata": {},
   "outputs": [
    {
     "data": {
      "image/png": "[encoded data removed]",
      "text/plain": [
       "<Figure size 800x400 with 1 Axes>"
      ]
     },
     "metadata": {},
     "output_type": "display_data"
    }
   ],
   "source": [
    "import pandas as pd\n",
    "import matplotlib.pyplot as plt\n",
    "\n",
    "# Reading the business data \n",
    "business_df = pd.read_json(\"yelp_academic_dataset_business.json\", lines=True)\n",
    "\n",
    "# Filter the restaurants\n",
    "restaurant_df = business_df[business_df['categories'].str.contains('Restaurants', case=False, na=False)]\n",
    "\n",
    "# Plot restaurant rating \n",
    "plt.figure(figsize=(8, 4))\n",
    "plt.hist(restaurant_df['stars'], bins=9, color='green', edgecolor='black')\n",
    "plt.title('Histogram of Restaurant Ratings')\n",
    "plt.xlabel('Rating')\n",
    "plt.ylabel('Frequency')\n",
    "plt.xticks(range(1, 6))\n",
    "plt.grid(True)\n",
    "\n",
    "#loop for generating bar\n",
    "for i in range(len(plt.hist(restaurant_df['stars'], bins=9, color='green', edgecolor='black')[0])):\n",
    "    plt.text(plt.hist(restaurant_df['stars'], bins=9, color='green', edgecolor='black')[1][i], \n",
    "             plt.hist(restaurant_df['stars'], bins=9, color='green', edgecolor='black')[0][i], \n",
    "             str(int(plt.hist(restaurant_df['stars'], bins=9, color='green', edgecolor='black')[0][i])), \n",
    "             ha='center', va='bottom')\n",
    "\n",
    "plt.show()\n"
   ]
  },
  {
   "cell_type": "markdown",
   "metadata": {
    "id": "XIx5tnbW1Sdg"
   },
   "source": [
    "# The Solution: implement a data science solution to the problem you are trying to solve.\n",
    "Briefly describe the idea of your solution to the problem in the following cell:"
   ]
  },
  {
   "cell_type": "markdown",
   "metadata": {
    "id": "jt-daX3n1Sdg"
   },
   "source": [
    "- The plan is to use machine learning to predict how well businesses, especially restaurants on Yelp, will do.\n",
    "- First, we'll get the data ready by fixing any missing info and picking out important features like reviews, ratings, and location.\n",
    "- Then, we'll train a model called RandomForestClassifier on the training data and check how accurate it is using numbers like accuracy and F1 score.\n",
    "- We'll also look at precision and recall to see how good the model is at guessing successful businesses.\n",
    "- In short, we're making a tool to guess if a business will do well on Yelp based on different factors."
   ]
  },
  {
   "cell_type": "markdown",
   "metadata": {
    "id": "-VS6bpHN1Sdg"
   },
   "source": [
    "Write codes to implement the solution in python:"
   ]
  },
  {
   "cell_type": "code",
   "execution_count": 13,
   "metadata": {},
   "outputs": [],
   "source": [
    "# Preprocess the data by removing unnecessary columns, dealing with null values.\n",
    "business_df.dropna(inplace=True)\n",
    "business_df.reset_index(drop=True, inplace=True)"
   ]
  },
  {
   "cell_type": "code",
   "execution_count": 14,
   "metadata": {},
   "outputs": [],
   "source": [
    "# Extract features from the data\n",
    "X = business_df[['review_count', 'stars', 'latitude', 'longitude']]\n",
    "\n",
    "# Use 'is_open' as the target variable.\n",
    "y = business_df['is_open']  "
   ]
  },
  {
   "cell_type": "code",
   "execution_count": 15,
   "metadata": {},
   "outputs": [],
   "source": [
    "# Model Training\n",
    "from sklearn.model_selection import train_test_split\n",
    "from sklearn.ensemble import RandomForestClassifier"
   ]
  },
  {
   "cell_type": "code",
   "execution_count": 16,
   "metadata": {},
   "outputs": [],
   "source": [
    "# Divide the data into sets for testing and training.\n",
    "X_train, X_test, y_train, y_test = train_test_split(X, y, test_size=0.2, random_state=42)"
   ]
  },
  {
   "cell_type": "code",
   "execution_count": 17,
   "metadata": {},
   "outputs": [
    {
     "data": {
      "text/html": [
       "<style>#sk-container-id-1 {\n",
       "  /* Definition of color scheme common for light and dark mode */\n",
       "  --sklearn-color-text: black;\n",
       "  --sklearn-color-line: gray;\n",
       "  /* Definition of color scheme for unfitted estimators */\n",
       "  --sklearn-color-unfitted-level-0: #fff5e6;\n",
       "  --sklearn-color-unfitted-level-1: #f6e4d2;\n",
       "  --sklearn-color-unfitted-level-2: #ffe0b3;\n",
       "  --sklearn-color-unfitted-level-3: chocolate;\n",
       "  /* Definition of color scheme for fitted estimators */\n",
       "  --sklearn-color-fitted-level-0: #f0f8ff;\n",
       "  --sklearn-color-fitted-level-1: #d4ebff;\n",
       "  --sklearn-color-fitted-level-2: #b3dbfd;\n",
       "  --sklearn-color-fitted-level-3: cornflowerblue;\n",
       "\n",
       "  /* Specific color for light theme */\n",
       "  --sklearn-color-text-on-default-background: var(--sg-text-color, var(--theme-code-foreground, var(--jp-content-font-color1, black)));\n",
       "  --sklearn-color-background: var(--sg-background-color, var(--theme-background, var(--jp-layout-color0, white)));\n",
       "  --sklearn-color-border-box: var(--sg-text-color, var(--theme-code-foreground, var(--jp-content-font-color1, black)));\n",
       "  --sklearn-color-icon: #696969;\n",
       "\n",
       "  @media (prefers-color-scheme: dark) {\n",
       "    /* Redefinition of color scheme for dark theme */\n",
       "    --sklearn-color-text-on-default-background: var(--sg-text-color, var(--theme-code-foreground, var(--jp-content-font-color1, white)));\n",
       "    --sklearn-color-background: var(--sg-background-color, var(--theme-background, var(--jp-layout-color0, #111)));\n",
       "    --sklearn-color-border-box: var(--sg-text-color, var(--theme-code-foreground, var(--jp-content-font-color1, white)));\n",
       "    --sklearn-color-icon: #878787;\n",
       "  }\n",
       "}\n",
       "\n",
       "#sk-container-id-1 {\n",
       "  color: var(--sklearn-color-text);\n",
       "}\n",
       "\n",
       "#sk-container-id-1 pre {\n",
       "  padding: 0;\n",
       "}\n",
       "\n",
       "#sk-container-id-1 input.sk-hidden--visually {\n",
       "  border: 0;\n",
       "  clip: rect(1px 1px 1px 1px);\n",
       "  clip: rect(1px, 1px, 1px, 1px);\n",
       "  height: 1px;\n",
       "  margin: -1px;\n",
       "  overflow: hidden;\n",
       "  padding: 0;\n",
       "  position: absolute;\n",
       "  width: 1px;\n",
       "}\n",
       "\n",
       "#sk-container-id-1 div.sk-dashed-wrapped {\n",
       "  border: 1px dashed var(--sklearn-color-line);\n",
       "  margin: 0 0.4em 0.5em 0.4em;\n",
       "  box-sizing: border-box;\n",
       "  padding-bottom: 0.4em;\n",
       "  background-color: var(--sklearn-color-background);\n",
       "}\n",
       "\n",
       "#sk-container-id-1 div.sk-container {\n",
       "  /* jupyter's `normalize.less` sets `[hidden] { display: none; }`\n",
       "     but bootstrap.min.css set `[hidden] { display: none !important; }`\n",
       "     so we also need the `!important` here to be able to override the\n",
       "     default hidden behavior on the sphinx rendered scikit-learn.org.\n",
       "     See: https://github.com/scikit-learn/scikit-learn/issues/21755 */\n",
       "  display: inline-block !important;\n",
       "  position: relative;\n",
       "}\n",
       "\n",
       "#sk-container-id-1 div.sk-text-repr-fallback {\n",
       "  display: none;\n",
       "}\n",
       "\n",
       "div.sk-parallel-item,\n",
       "div.sk-serial,\n",
       "div.sk-item {\n",
       "  /* draw centered vertical line to link estimators */\n",
       "  background-image: linear-gradient(var(--sklearn-color-text-on-default-background), var(--sklearn-color-text-on-default-background));\n",
       "  background-size: 2px 100%;\n",
       "  background-repeat: no-repeat;\n",
       "  background-position: center center;\n",
       "}\n",
       "\n",
       "/* Parallel-specific style estimator block */\n",
       "\n",
       "#sk-container-id-1 div.sk-parallel-item::after {\n",
       "  content: \"\";\n",
       "  width: 100%;\n",
       "  border-bottom: 2px solid var(--sklearn-color-text-on-default-background);\n",
       "  flex-grow: 1;\n",
       "}\n",
       "\n",
       "#sk-container-id-1 div.sk-parallel {\n",
       "  display: flex;\n",
       "  align-items: stretch;\n",
       "  justify-content: center;\n",
       "  background-color: var(--sklearn-color-background);\n",
       "  position: relative;\n",
       "}\n",
       "\n",
       "#sk-container-id-1 div.sk-parallel-item {\n",
       "  display: flex;\n",
       "  flex-direction: column;\n",
       "}\n",
       "\n",
       "#sk-container-id-1 div.sk-parallel-item:first-child::after {\n",
       "  align-self: flex-end;\n",
       "  width: 50%;\n",
       "}\n",
       "\n",
       "#sk-container-id-1 div.sk-parallel-item:last-child::after {\n",
       "  align-self: flex-start;\n",
       "  width: 50%;\n",
       "}\n",
       "\n",
       "#sk-container-id-1 div.sk-parallel-item:only-child::after {\n",
       "  width: 0;\n",
       "}\n",
       "\n",
       "/* Serial-specific style estimator block */\n",
       "\n",
       "#sk-container-id-1 div.sk-serial {\n",
       "  display: flex;\n",
       "  flex-direction: column;\n",
       "  align-items: center;\n",
       "  background-color: var(--sklearn-color-background);\n",
       "  padding-right: 1em;\n",
       "  padding-left: 1em;\n",
       "}\n",
       "\n",
       "\n",
       "/* Toggleable style: style used for estimator/Pipeline/ColumnTransformer box that is\n",
       "clickable and can be expanded/collapsed.\n",
       "- Pipeline and ColumnTransformer use this feature and define the default style\n",
       "- Estimators will overwrite some part of the style using the `sk-estimator` class\n",
       "*/\n",
       "\n",
       "/* Pipeline and ColumnTransformer style (default) */\n",
       "\n",
       "#sk-container-id-1 div.sk-toggleable {\n",
       "  /* Default theme specific background. It is overwritten whether we have a\n",
       "  specific estimator or a Pipeline/ColumnTransformer */\n",
       "  background-color: var(--sklearn-color-background);\n",
       "}\n",
       "\n",
       "/* Toggleable label */\n",
       "#sk-container-id-1 label.sk-toggleable__label {\n",
       "  cursor: pointer;\n",
       "  display: block;\n",
       "  width: 100%;\n",
       "  margin-bottom: 0;\n",
       "  padding: 0.5em;\n",
       "  box-sizing: border-box;\n",
       "  text-align: center;\n",
       "}\n",
       "\n",
       "#sk-container-id-1 label.sk-toggleable__label-arrow:before {\n",
       "  /* Arrow on the left of the label */\n",
       "  content: \"▸\";\n",
       "  float: left;\n",
       "  margin-right: 0.25em;\n",
       "  color: var(--sklearn-color-icon);\n",
       "}\n",
       "\n",
       "#sk-container-id-1 label.sk-toggleable__label-arrow:hover:before {\n",
       "  color: var(--sklearn-color-text);\n",
       "}\n",
       "\n",
       "/* Toggleable content - dropdown */\n",
       "\n",
       "#sk-container-id-1 div.sk-toggleable__content {\n",
       "  max-height: 0;\n",
       "  max-width: 0;\n",
       "  overflow: hidden;\n",
       "  text-align: left;\n",
       "  /* unfitted */\n",
       "  background-color: var(--sklearn-color-unfitted-level-0);\n",
       "}\n",
       "\n",
       "#sk-container-id-1 div.sk-toggleable__content.fitted {\n",
       "  /* fitted */\n",
       "  background-color: var(--sklearn-color-fitted-level-0);\n",
       "}\n",
       "\n",
       "#sk-container-id-1 div.sk-toggleable__content pre {\n",
       "  margin: 0.2em;\n",
       "  border-radius: 0.25em;\n",
       "  color: var(--sklearn-color-text);\n",
       "  /* unfitted */\n",
       "  background-color: var(--sklearn-color-unfitted-level-0);\n",
       "}\n",
       "\n",
       "#sk-container-id-1 div.sk-toggleable__content.fitted pre {\n",
       "  /* unfitted */\n",
       "  background-color: var(--sklearn-color-fitted-level-0);\n",
       "}\n",
       "\n",
       "#sk-container-id-1 input.sk-toggleable__control:checked~div.sk-toggleable__content {\n",
       "  /* Expand drop-down */\n",
       "  max-height: 200px;\n",
       "  max-width: 100%;\n",
       "  overflow: auto;\n",
       "}\n",
       "\n",
       "#sk-container-id-1 input.sk-toggleable__control:checked~label.sk-toggleable__label-arrow:before {\n",
       "  content: \"▾\";\n",
       "}\n",
       "\n",
       "/* Pipeline/ColumnTransformer-specific style */\n",
       "\n",
       "#sk-container-id-1 div.sk-label input.sk-toggleable__control:checked~label.sk-toggleable__label {\n",
       "  color: var(--sklearn-color-text);\n",
       "  background-color: var(--sklearn-color-unfitted-level-2);\n",
       "}\n",
       "\n",
       "#sk-container-id-1 div.sk-label.fitted input.sk-toggleable__control:checked~label.sk-toggleable__label {\n",
       "  background-color: var(--sklearn-color-fitted-level-2);\n",
       "}\n",
       "\n",
       "/* Estimator-specific style */\n",
       "\n",
       "/* Colorize estimator box */\n",
       "#sk-container-id-1 div.sk-estimator input.sk-toggleable__control:checked~label.sk-toggleable__label {\n",
       "  /* unfitted */\n",
       "  background-color: var(--sklearn-color-unfitted-level-2);\n",
       "}\n",
       "\n",
       "#sk-container-id-1 div.sk-estimator.fitted input.sk-toggleable__control:checked~label.sk-toggleable__label {\n",
       "  /* fitted */\n",
       "  background-color: var(--sklearn-color-fitted-level-2);\n",
       "}\n",
       "\n",
       "#sk-container-id-1 div.sk-label label.sk-toggleable__label,\n",
       "#sk-container-id-1 div.sk-label label {\n",
       "  /* The background is the default theme color */\n",
       "  color: var(--sklearn-color-text-on-default-background);\n",
       "}\n",
       "\n",
       "/* On hover, darken the color of the background */\n",
       "#sk-container-id-1 div.sk-label:hover label.sk-toggleable__label {\n",
       "  color: var(--sklearn-color-text);\n",
       "  background-color: var(--sklearn-color-unfitted-level-2);\n",
       "}\n",
       "\n",
       "/* Label box, darken color on hover, fitted */\n",
       "#sk-container-id-1 div.sk-label.fitted:hover label.sk-toggleable__label.fitted {\n",
       "  color: var(--sklearn-color-text);\n",
       "  background-color: var(--sklearn-color-fitted-level-2);\n",
       "}\n",
       "\n",
       "/* Estimator label */\n",
       "\n",
       "#sk-container-id-1 div.sk-label label {\n",
       "  font-family: monospace;\n",
       "  font-weight: bold;\n",
       "  display: inline-block;\n",
       "  line-height: 1.2em;\n",
       "}\n",
       "\n",
       "#sk-container-id-1 div.sk-label-container {\n",
       "  text-align: center;\n",
       "}\n",
       "\n",
       "/* Estimator-specific */\n",
       "#sk-container-id-1 div.sk-estimator {\n",
       "  font-family: monospace;\n",
       "  border: 1px dotted var(--sklearn-color-border-box);\n",
       "  border-radius: 0.25em;\n",
       "  box-sizing: border-box;\n",
       "  margin-bottom: 0.5em;\n",
       "  /* unfitted */\n",
       "  background-color: var(--sklearn-color-unfitted-level-0);\n",
       "}\n",
       "\n",
       "#sk-container-id-1 div.sk-estimator.fitted {\n",
       "  /* fitted */\n",
       "  background-color: var(--sklearn-color-fitted-level-0);\n",
       "}\n",
       "\n",
       "/* on hover */\n",
       "#sk-container-id-1 div.sk-estimator:hover {\n",
       "  /* unfitted */\n",
       "  background-color: var(--sklearn-color-unfitted-level-2);\n",
       "}\n",
       "\n",
       "#sk-container-id-1 div.sk-estimator.fitted:hover {\n",
       "  /* fitted */\n",
       "  background-color: var(--sklearn-color-fitted-level-2);\n",
       "}\n",
       "\n",
       "/* Specification for estimator info (e.g. \"i\" and \"?\") */\n",
       "\n",
       "/* Common style for \"i\" and \"?\" */\n",
       "\n",
       ".sk-estimator-doc-link,\n",
       "a:link.sk-estimator-doc-link,\n",
       "a:visited.sk-estimator-doc-link {\n",
       "  float: right;\n",
       "  font-size: smaller;\n",
       "  line-height: 1em;\n",
       "  font-family: monospace;\n",
       "  background-color: var(--sklearn-color-background);\n",
       "  border-radius: 1em;\n",
       "  height: 1em;\n",
       "  width: 1em;\n",
       "  text-decoration: none !important;\n",
       "  margin-left: 1ex;\n",
       "  /* unfitted */\n",
       "  border: var(--sklearn-color-unfitted-level-1) 1pt solid;\n",
       "  color: var(--sklearn-color-unfitted-level-1);\n",
       "}\n",
       "\n",
       ".sk-estimator-doc-link.fitted,\n",
       "a:link.sk-estimator-doc-link.fitted,\n",
       "a:visited.sk-estimator-doc-link.fitted {\n",
       "  /* fitted */\n",
       "  border: var(--sklearn-color-fitted-level-1) 1pt solid;\n",
       "  color: var(--sklearn-color-fitted-level-1);\n",
       "}\n",
       "\n",
       "/* On hover */\n",
       "div.sk-estimator:hover .sk-estimator-doc-link:hover,\n",
       ".sk-estimator-doc-link:hover,\n",
       "div.sk-label-container:hover .sk-estimator-doc-link:hover,\n",
       ".sk-estimator-doc-link:hover {\n",
       "  /* unfitted */\n",
       "  background-color: var(--sklearn-color-unfitted-level-3);\n",
       "  color: var(--sklearn-color-background);\n",
       "  text-decoration: none;\n",
       "}\n",
       "\n",
       "div.sk-estimator.fitted:hover .sk-estimator-doc-link.fitted:hover,\n",
       ".sk-estimator-doc-link.fitted:hover,\n",
       "div.sk-label-container:hover .sk-estimator-doc-link.fitted:hover,\n",
       ".sk-estimator-doc-link.fitted:hover {\n",
       "  /* fitted */\n",
       "  background-color: var(--sklearn-color-fitted-level-3);\n",
       "  color: var(--sklearn-color-background);\n",
       "  text-decoration: none;\n",
       "}\n",
       "\n",
       "/* Span, style for the box shown on hovering the info icon */\n",
       ".sk-estimator-doc-link span {\n",
       "  display: none;\n",
       "  z-index: 9999;\n",
       "  position: relative;\n",
       "  font-weight: normal;\n",
       "  right: .2ex;\n",
       "  padding: .5ex;\n",
       "  margin: .5ex;\n",
       "  width: min-content;\n",
       "  min-width: 20ex;\n",
       "  max-width: 50ex;\n",
       "  color: var(--sklearn-color-text);\n",
       "  box-shadow: 2pt 2pt 4pt #999;\n",
       "  /* unfitted */\n",
       "  background: var(--sklearn-color-unfitted-level-0);\n",
       "  border: .5pt solid var(--sklearn-color-unfitted-level-3);\n",
       "}\n",
       "\n",
       ".sk-estimator-doc-link.fitted span {\n",
       "  /* fitted */\n",
       "  background: var(--sklearn-color-fitted-level-0);\n",
       "  border: var(--sklearn-color-fitted-level-3);\n",
       "}\n",
       "\n",
       ".sk-estimator-doc-link:hover span {\n",
       "  display: block;\n",
       "}\n",
       "\n",
       "/* \"?\"-specific style due to the `<a>` HTML tag */\n",
       "\n",
       "#sk-container-id-1 a.estimator_doc_link {\n",
       "  float: right;\n",
       "  font-size: 1rem;\n",
       "  line-height: 1em;\n",
       "  font-family: monospace;\n",
       "  background-color: var(--sklearn-color-background);\n",
       "  border-radius: 1rem;\n",
       "  height: 1rem;\n",
       "  width: 1rem;\n",
       "  text-decoration: none;\n",
       "  /* unfitted */\n",
       "  color: var(--sklearn-color-unfitted-level-1);\n",
       "  border: var(--sklearn-color-unfitted-level-1) 1pt solid;\n",
       "}\n",
       "\n",
       "#sk-container-id-1 a.estimator_doc_link.fitted {\n",
       "  /* fitted */\n",
       "  border: var(--sklearn-color-fitted-level-1) 1pt solid;\n",
       "  color: var(--sklearn-color-fitted-level-1);\n",
       "}\n",
       "\n",
       "/* On hover */\n",
       "#sk-container-id-1 a.estimator_doc_link:hover {\n",
       "  /* unfitted */\n",
       "  background-color: var(--sklearn-color-unfitted-level-3);\n",
       "  color: var(--sklearn-color-background);\n",
       "  text-decoration: none;\n",
       "}\n",
       "\n",
       "#sk-container-id-1 a.estimator_doc_link.fitted:hover {\n",
       "  /* fitted */\n",
       "  background-color: var(--sklearn-color-fitted-level-3);\n",
       "}\n",
       "</style><div id=\"sk-container-id-1\" class=\"sk-top-container\"><div class=\"sk-text-repr-fallback\"><pre>RandomForestClassifier(random_state=42)</pre><b>In a Jupyter environment, please rerun this cell to show the HTML representation or trust the notebook. <br />On GitHub, the HTML representation is unable to render, please try loading this page with nbviewer.org.</b></div><div class=\"sk-container\" hidden><div class=\"sk-item\"><div class=\"sk-estimator fitted sk-toggleable\"><input class=\"sk-toggleable__control sk-hidden--visually\" id=\"sk-estimator-id-1\" type=\"checkbox\" checked><label for=\"sk-estimator-id-1\" class=\"sk-toggleable__label fitted sk-toggleable__label-arrow fitted\">&nbsp;&nbsp;RandomForestClassifier<a class=\"sk-estimator-doc-link fitted\" rel=\"noreferrer\" target=\"_blank\" href=\"https://scikit-learn.org/1.4/modules/generated/sklearn.ensemble.RandomForestClassifier.html\">?<span>Documentation for RandomForestClassifier</span></a><span class=\"sk-estimator-doc-link fitted\">i<span>Fitted</span></span></label><div class=\"sk-toggleable__content fitted\"><pre>RandomForestClassifier(random_state=42)</pre></div> </div></div></div></div>"
      ],
      "text/plain": [
       "RandomForestClassifier(random_state=42)"
      ]
     },
     "execution_count": 17,
     "metadata": {},
     "output_type": "execute_result"
    }
   ],
   "source": [
    "# Set the Random Forest Classifier to start.\n",
    "rf_classifier = RandomForestClassifier(n_estimators=100, random_state=42)\n",
    "\n",
    "# Train the model\n",
    "rf_classifier.fit(X_train, y_train)"
   ]
  },
  {
   "cell_type": "code",
   "execution_count": 18,
   "metadata": {},
   "outputs": [
    {
     "name": "stdout",
     "output_type": "stream",
     "text": [
      "Accuracy: 0.8338106634234376\n",
      "F1 Score: 0.9084385267162373\n",
      "Precision: 0.852979379769443\n",
      "Recall: 0.9716108747919364\n"
     ]
    }
   ],
   "source": [
    "#Evaluation of the Model\n",
    "from sklearn.metrics import accuracy_score, f1_score, precision_score, recall_score\n",
    "\n",
    "# Utilizing the test set, make predictions.\n",
    "y_pred = rf_classifier.predict(X_test)\n",
    "\n",
    "# Examine the model\n",
    "accuracy = accuracy_score(y_test, y_pred)\n",
    "f1 = f1_score(y_test, y_pred)\n",
    "precision = precision_score(y_test, y_pred)\n",
    "recall = recall_score(y_test, y_pred)\n",
    "\n",
    "# print\n",
    "print(\"Accuracy:\", accuracy)\n",
    "print(\"F1 Score:\", f1)\n",
    "print(\"Precision:\", precision)\n",
    "print(\"Recall:\", recall)"
   ]
  },
  {
   "cell_type": "markdown",
   "metadata": {
    "id": "-EKH65Yn1Sdh"
   },
   "source": [
    "# Results: summarize and visualize the results discovered from the analysis\n",
    "\n",
    "Please use figures or tables to present the results.\n"
   ]
  },
  {
   "cell_type": "code",
   "execution_count": 26,
   "metadata": {},
   "outputs": [
    {
     "data": {
      "image/png": "[encoded data removed]",
      "text/plain": [
       "<Figure size 600x400 with 1 Axes>"
      ]
     },
     "metadata": {},
     "output_type": "display_data"
    }
   ],
   "source": [
    "import matplotlib.pyplot as plt\n",
    "import seaborn as sns\n",
    "from sklearn.metrics import confusion_matrix, precision_recall_curve, PrecisionRecallDisplay\n",
    "\n",
    "# Distribution of Ratings\n",
    "plt.figure(figsize=(6, 4))\n",
    "sns.histplot(data=business_df, x='stars', bins=5, kde=True)\n",
    "plt.title('Distribution of Star Ratings')\n",
    "plt.xlabel('Star Ratings')\n",
    "plt.ylabel('Frequency')\n",
    "plt.show()"
   ]
  },
  {
   "cell_type": "code",
   "execution_count": 21,
   "metadata": {
    "scrolled": true
   },
   "outputs": [
    {
     "data": {
      "image/png": "[encoded data removed]",
      "text/plain": [
       "<Figure size 700x500 with 1 Axes>"
      ]
     },
     "metadata": {},
     "output_type": "display_data"
    }
   ],
   "source": [
    "# successful_count criteria\n",
    "successful_count = len(business_df[business_df['stars'] > 4])\n",
    "\n",
    "# Calculate unsuccessful count\n",
    "total_count = len(business_df)\n",
    "unsuccessful_count = total_count - successful_count\n",
    "\n",
    "# Visualize the proportion of successful vs. unsuccessful restaurants\n",
    "labels = ['Successful', 'Unsuccessful']\n",
    "sizes = [successful_count, unsuccessful_count]\n",
    "colors = ['#ff9999','#66b3ff']\n",
    "explode = (0.1, 0) \n",
    "\n",
    "plt.figure(figsize=(7, 5))\n",
    "plt.pie(sizes, explode=explode, labels=labels, colors=colors, autopct='%1.1f%%', startangle=140)\n",
    "plt.title('Proportion of Successful vs. Unsuccessful Restaurants')\n",
    "plt.axis('equal') \n",
    "plt.show()"
   ]
  },
  {
   "cell_type": "code",
   "execution_count": 25,
   "metadata": {},
   "outputs": [
    {
     "data": {
      "image/png": "[encoded data removed]",
      "text/plain": [
       "<Figure size 800x400 with 1 Axes>"
      ]
     },
     "metadata": {},
     "output_type": "display_data"
    }
   ],
   "source": [
    "# predicted probabilities\n",
    "y_pred_prob = rf_classifier.predict_proba(X_test)\n",
    "\n",
    "# predicted probabilities for the positive class (open restaurants)\n",
    "open_probs = y_pred_prob[:, 1]\n",
    "\n",
    "# predicted probabilities for the negative class (closed restaurants)\n",
    "closed_probs = y_pred_prob[:, 0]\n",
    "\n",
    "# Plot histograms\n",
    "plt.figure(figsize=(8, 4))\n",
    "\n",
    "plt.hist(open_probs, bins=30, alpha=0.5, color='blue', label='Open Restaurants')\n",
    "plt.hist(closed_probs, bins=30, alpha=0.5, color='red', label='Closed Restaurants')\n",
    "\n",
    "plt.title('Distribution of Predicted Probabilities')\n",
    "plt.xlabel('Predicted Probability')\n",
    "plt.ylabel('Frequency')\n",
    "plt.legend()\n",
    "plt.grid(True)\n",
    "\n",
    "plt.show()"
   ]
  },
  {
   "cell_type": "markdown",
   "metadata": {
    "id": "Ce_2EH8k1Sdh"
   },
   "source": [
    "*-----------------\n",
    "# Done\n",
    "\n",
    "All set! \n",
    "\n",
    "** What do you need to submit?**\n",
    "\n",
    "* **Notebook File**: Save this Jupyter notebook, and submit it in BrightSpace. Please make sure all the plotted tables and figures are in the notebook. "
   ]
  },
  {
   "cell_type": "code",
   "execution_count": null,
   "metadata": {
    "id": "uhVU48e61Sdi"
   },
   "outputs": [],
   "source": []
  },
  {
   "cell_type": "code",
   "execution_count": null,
   "metadata": {},
   "outputs": [],
   "source": []
  }
 ],
 "metadata": {
  "colab": {
   "provenance": []
  },
  "kernelspec": {
   "display_name": "Python 3 (ipykernel)",
   "language": "python",
   "name": "python3"
  },
  "language_info": {
   "codemirror_mode": {
    "name": "ipython",
    "version": 3
   },
   "file_extension": ".py",
   "mimetype": "text/x-python",
   "name": "python",
   "nbconvert_exporter": "python",
   "pygments_lexer": "ipython3",
   "version": "3.11.5"
  }
 },
 "nbformat": 4,
 "nbformat_minor": 4
}
